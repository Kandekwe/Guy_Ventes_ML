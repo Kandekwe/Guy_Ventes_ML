{
 "cells": [
  {
   "cell_type": "markdown",
   "id": "98b910ef-c741-4aa1-90c4-781527a15d40",
   "metadata": {},
   "source": [
    "**Mise en situation**\n",
    "\r",
    "Certains gestionnaires de magasins tentent de comprendre comment augmenter les ventes de leurs magasins. \n",
    "Ils ont à leur disposition des données historiques de ventes de différents magasins."
   ]
  },
  {
   "cell_type": "markdown",
   "id": "d4c849c3-1ea0-4f31-b703-e23fda2a2a00",
   "metadata": {},
   "source": [
    "**Question #1 : Préparation des données**"
   ]
  },
  {
   "cell_type": "code",
   "execution_count": 1,
   "id": "55b1f68f-1f2c-4777-a75a-35303d50dc98",
   "metadata": {},
   "outputs": [],
   "source": [
    "#chargement des données et informations primaires\n",
    "import pandas as pd\n",
    "import numpy as np\n",
    "import seaborn as sns\n",
    "import matplotlib.pyplot as plt"
   ]
  },
  {
   "cell_type": "code",
   "execution_count": 2,
   "id": "206ac65b-362e-4434-b986-ebd0ebae857a",
   "metadata": {},
   "outputs": [
    {
     "data": {
      "text/plain": [
       "(2121, 21)"
      ]
     },
     "execution_count": 2,
     "metadata": {},
     "output_type": "execute_result"
    }
   ],
   "source": [
    "#charger l'ensemble de données\n",
    "ventes = pd.read_csv('stores_sales_forecasting.csv', encoding='latin1')\n",
    "\n",
    "#la grandeur du data\n",
    "ventes.shape\n"
   ]
  },
  {
   "cell_type": "code",
   "execution_count": 3,
   "id": "2b2a0604-3f5b-4b76-b923-75cc79d77af7",
   "metadata": {},
   "outputs": [
    {
     "data": {
      "text/html": [
       "<div>\n",
       "<style scoped>\n",
       "    .dataframe tbody tr th:only-of-type {\n",
       "        vertical-align: middle;\n",
       "    }\n",
       "\n",
       "    .dataframe tbody tr th {\n",
       "        vertical-align: top;\n",
       "    }\n",
       "\n",
       "    .dataframe thead th {\n",
       "        text-align: right;\n",
       "    }\n",
       "</style>\n",
       "<table border=\"1\" class=\"dataframe\">\n",
       "  <thead>\n",
       "    <tr style=\"text-align: right;\">\n",
       "      <th></th>\n",
       "      <th>Row ID</th>\n",
       "      <th>Order ID</th>\n",
       "      <th>Order Date</th>\n",
       "      <th>Ship Date</th>\n",
       "      <th>Ship Mode</th>\n",
       "      <th>Customer ID</th>\n",
       "      <th>Customer Name</th>\n",
       "      <th>Segment</th>\n",
       "      <th>Country</th>\n",
       "      <th>City</th>\n",
       "      <th>...</th>\n",
       "      <th>Postal Code</th>\n",
       "      <th>Region</th>\n",
       "      <th>Product ID</th>\n",
       "      <th>Category</th>\n",
       "      <th>Sub-Category</th>\n",
       "      <th>Product Name</th>\n",
       "      <th>Sales</th>\n",
       "      <th>Quantity</th>\n",
       "      <th>Discount</th>\n",
       "      <th>Profit</th>\n",
       "    </tr>\n",
       "  </thead>\n",
       "  <tbody>\n",
       "    <tr>\n",
       "      <th>0</th>\n",
       "      <td>1</td>\n",
       "      <td>CA-2016-152156</td>\n",
       "      <td>11/8/2016</td>\n",
       "      <td>11/11/2016</td>\n",
       "      <td>Second Class</td>\n",
       "      <td>CG-12520</td>\n",
       "      <td>Claire Gute</td>\n",
       "      <td>Consumer</td>\n",
       "      <td>United States</td>\n",
       "      <td>Henderson</td>\n",
       "      <td>...</td>\n",
       "      <td>42420</td>\n",
       "      <td>South</td>\n",
       "      <td>FUR-BO-10001798</td>\n",
       "      <td>Furniture</td>\n",
       "      <td>Bookcases</td>\n",
       "      <td>Bush Somerset Collection Bookcase</td>\n",
       "      <td>261.96</td>\n",
       "      <td>2</td>\n",
       "      <td>0.0</td>\n",
       "      <td>41.9136</td>\n",
       "    </tr>\n",
       "    <tr>\n",
       "      <th>1</th>\n",
       "      <td>2</td>\n",
       "      <td>CA-2016-152156</td>\n",
       "      <td>11/8/2016</td>\n",
       "      <td>11/11/2016</td>\n",
       "      <td>Second Class</td>\n",
       "      <td>CG-12520</td>\n",
       "      <td>Claire Gute</td>\n",
       "      <td>Consumer</td>\n",
       "      <td>United States</td>\n",
       "      <td>Henderson</td>\n",
       "      <td>...</td>\n",
       "      <td>42420</td>\n",
       "      <td>South</td>\n",
       "      <td>FUR-CH-10000454</td>\n",
       "      <td>Furniture</td>\n",
       "      <td>Chairs</td>\n",
       "      <td>Hon Deluxe Fabric Upholstered Stacking Chairs,...</td>\n",
       "      <td>731.94</td>\n",
       "      <td>3</td>\n",
       "      <td>0.0</td>\n",
       "      <td>219.5820</td>\n",
       "    </tr>\n",
       "  </tbody>\n",
       "</table>\n",
       "<p>2 rows × 21 columns</p>\n",
       "</div>"
      ],
      "text/plain": [
       "   Row ID        Order ID Order Date   Ship Date     Ship Mode Customer ID  \\\n",
       "0       1  CA-2016-152156  11/8/2016  11/11/2016  Second Class    CG-12520   \n",
       "1       2  CA-2016-152156  11/8/2016  11/11/2016  Second Class    CG-12520   \n",
       "\n",
       "  Customer Name   Segment        Country       City  ... Postal Code  Region  \\\n",
       "0   Claire Gute  Consumer  United States  Henderson  ...       42420   South   \n",
       "1   Claire Gute  Consumer  United States  Henderson  ...       42420   South   \n",
       "\n",
       "        Product ID   Category Sub-Category  \\\n",
       "0  FUR-BO-10001798  Furniture    Bookcases   \n",
       "1  FUR-CH-10000454  Furniture       Chairs   \n",
       "\n",
       "                                        Product Name   Sales  Quantity  \\\n",
       "0                  Bush Somerset Collection Bookcase  261.96         2   \n",
       "1  Hon Deluxe Fabric Upholstered Stacking Chairs,...  731.94         3   \n",
       "\n",
       "   Discount    Profit  \n",
       "0       0.0   41.9136  \n",
       "1       0.0  219.5820  \n",
       "\n",
       "[2 rows x 21 columns]"
      ]
     },
     "execution_count": 3,
     "metadata": {},
     "output_type": "execute_result"
    }
   ],
   "source": [
    "#comment mes données ressemble?\n",
    "ventes.head(2)\n"
   ]
  },
  {
   "cell_type": "code",
   "execution_count": 4,
   "id": "1659ca80-c6f2-4cfa-9dba-d20593092496",
   "metadata": {},
   "outputs": [
    {
     "name": "stdout",
     "output_type": "stream",
     "text": [
      "<class 'pandas.core.frame.DataFrame'>\n",
      "RangeIndex: 2121 entries, 0 to 2120\n",
      "Data columns (total 21 columns):\n",
      " #   Column         Non-Null Count  Dtype  \n",
      "---  ------         --------------  -----  \n",
      " 0   Row ID         2121 non-null   int64  \n",
      " 1   Order ID       2121 non-null   object \n",
      " 2   Order Date     2121 non-null   object \n",
      " 3   Ship Date      2121 non-null   object \n",
      " 4   Ship Mode      2121 non-null   object \n",
      " 5   Customer ID    2121 non-null   object \n",
      " 6   Customer Name  2121 non-null   object \n",
      " 7   Segment        2121 non-null   object \n",
      " 8   Country        2121 non-null   object \n",
      " 9   City           2121 non-null   object \n",
      " 10  State          2121 non-null   object \n",
      " 11  Postal Code    2121 non-null   int64  \n",
      " 12  Region         2121 non-null   object \n",
      " 13  Product ID     2121 non-null   object \n",
      " 14  Category       2121 non-null   object \n",
      " 15  Sub-Category   2121 non-null   object \n",
      " 16  Product Name   2121 non-null   object \n",
      " 17  Sales          2121 non-null   float64\n",
      " 18  Quantity       2121 non-null   int64  \n",
      " 19  Discount       2121 non-null   float64\n",
      " 20  Profit         2121 non-null   float64\n",
      "dtypes: float64(3), int64(3), object(15)\n",
      "memory usage: 348.1+ KB\n"
     ]
    }
   ],
   "source": [
    "#Analyse generale pour comprendre les données que j'ai\n",
    "ventes.info()"
   ]
  },
  {
   "cell_type": "code",
   "execution_count": 5,
   "id": "f01585c3-6564-463a-979d-9e84561f7b1c",
   "metadata": {},
   "outputs": [
    {
     "data": {
      "text/html": [
       "<div>\n",
       "<style scoped>\n",
       "    .dataframe tbody tr th:only-of-type {\n",
       "        vertical-align: middle;\n",
       "    }\n",
       "\n",
       "    .dataframe tbody tr th {\n",
       "        vertical-align: top;\n",
       "    }\n",
       "\n",
       "    .dataframe thead th {\n",
       "        text-align: right;\n",
       "    }\n",
       "</style>\n",
       "<table border=\"1\" class=\"dataframe\">\n",
       "  <thead>\n",
       "    <tr style=\"text-align: right;\">\n",
       "      <th></th>\n",
       "      <th>Row ID</th>\n",
       "      <th>Postal Code</th>\n",
       "      <th>Sales</th>\n",
       "      <th>Quantity</th>\n",
       "      <th>Discount</th>\n",
       "      <th>Profit</th>\n",
       "    </tr>\n",
       "  </thead>\n",
       "  <tbody>\n",
       "    <tr>\n",
       "      <th>count</th>\n",
       "      <td>2121.000000</td>\n",
       "      <td>2121.000000</td>\n",
       "      <td>2121.000000</td>\n",
       "      <td>2121.000000</td>\n",
       "      <td>2121.000000</td>\n",
       "      <td>2121.000000</td>\n",
       "    </tr>\n",
       "    <tr>\n",
       "      <th>mean</th>\n",
       "      <td>5041.643564</td>\n",
       "      <td>55726.556341</td>\n",
       "      <td>349.834887</td>\n",
       "      <td>3.785007</td>\n",
       "      <td>0.173923</td>\n",
       "      <td>8.699327</td>\n",
       "    </tr>\n",
       "    <tr>\n",
       "      <th>std</th>\n",
       "      <td>2885.740258</td>\n",
       "      <td>32261.888225</td>\n",
       "      <td>503.179145</td>\n",
       "      <td>2.251620</td>\n",
       "      <td>0.181547</td>\n",
       "      <td>136.049246</td>\n",
       "    </tr>\n",
       "    <tr>\n",
       "      <th>min</th>\n",
       "      <td>1.000000</td>\n",
       "      <td>1040.000000</td>\n",
       "      <td>1.892000</td>\n",
       "      <td>1.000000</td>\n",
       "      <td>0.000000</td>\n",
       "      <td>-1862.312400</td>\n",
       "    </tr>\n",
       "    <tr>\n",
       "      <th>25%</th>\n",
       "      <td>2568.000000</td>\n",
       "      <td>22801.000000</td>\n",
       "      <td>47.040000</td>\n",
       "      <td>2.000000</td>\n",
       "      <td>0.000000</td>\n",
       "      <td>-12.849000</td>\n",
       "    </tr>\n",
       "    <tr>\n",
       "      <th>50%</th>\n",
       "      <td>5145.000000</td>\n",
       "      <td>60505.000000</td>\n",
       "      <td>182.220000</td>\n",
       "      <td>3.000000</td>\n",
       "      <td>0.200000</td>\n",
       "      <td>7.774800</td>\n",
       "    </tr>\n",
       "    <tr>\n",
       "      <th>75%</th>\n",
       "      <td>7534.000000</td>\n",
       "      <td>90032.000000</td>\n",
       "      <td>435.168000</td>\n",
       "      <td>5.000000</td>\n",
       "      <td>0.300000</td>\n",
       "      <td>33.726600</td>\n",
       "    </tr>\n",
       "    <tr>\n",
       "      <th>max</th>\n",
       "      <td>9991.000000</td>\n",
       "      <td>99301.000000</td>\n",
       "      <td>4416.174000</td>\n",
       "      <td>14.000000</td>\n",
       "      <td>0.700000</td>\n",
       "      <td>1013.127000</td>\n",
       "    </tr>\n",
       "  </tbody>\n",
       "</table>\n",
       "</div>"
      ],
      "text/plain": [
       "            Row ID   Postal Code        Sales     Quantity     Discount  \\\n",
       "count  2121.000000   2121.000000  2121.000000  2121.000000  2121.000000   \n",
       "mean   5041.643564  55726.556341   349.834887     3.785007     0.173923   \n",
       "std    2885.740258  32261.888225   503.179145     2.251620     0.181547   \n",
       "min       1.000000   1040.000000     1.892000     1.000000     0.000000   \n",
       "25%    2568.000000  22801.000000    47.040000     2.000000     0.000000   \n",
       "50%    5145.000000  60505.000000   182.220000     3.000000     0.200000   \n",
       "75%    7534.000000  90032.000000   435.168000     5.000000     0.300000   \n",
       "max    9991.000000  99301.000000  4416.174000    14.000000     0.700000   \n",
       "\n",
       "            Profit  \n",
       "count  2121.000000  \n",
       "mean      8.699327  \n",
       "std     136.049246  \n",
       "min   -1862.312400  \n",
       "25%     -12.849000  \n",
       "50%       7.774800  \n",
       "75%      33.726600  \n",
       "max    1013.127000  "
      ]
     },
     "execution_count": 5,
     "metadata": {},
     "output_type": "execute_result"
    }
   ],
   "source": [
    "ventes.describe()"
   ]
  },
  {
   "cell_type": "markdown",
   "id": "c7b28cf3-2773-4737-9a6a-c13b48823c20",
   "metadata": {},
   "source": [
    "**Observation**: nous avons une propre ensemble de données sans données manquantes\n",
    "Mais nous avons quelques problemes sur:\n",
    "1. les Dtype comme order date et ship date sont des Dtype object mais ca devraient etre datetime en principe\n",
    "2. Certains produits ont des rabais extrêmes, ce qui peut fausser le modèle\n",
    "3. Distribution des ventes(sales) biaisée et je les considere comme le cible\n"
   ]
  },
  {
   "cell_type": "markdown",
   "id": "fa78bd6c-fab9-4834-a674-c11b1bc417f0",
   "metadata": {},
   "source": [
    "**Nettoyage des données et ingénierie des fonctionnalités**"
   ]
  },
  {
   "cell_type": "code",
   "execution_count": 6,
   "id": "a0939f2a-a704-44e2-990e-eeded6d934f4",
   "metadata": {},
   "outputs": [],
   "source": [
    "#conversion des champs de date\n",
    "ventes['Order Date'] = pd.to_datetime(ventes['Order Date'])\n",
    "ventes['Ship Date'] = pd.to_datetime(ventes['Ship Date'])"
   ]
  },
  {
   "cell_type": "code",
   "execution_count": 7,
   "id": "0e27ce1f-802a-4d85-a6fa-c4d0def1dea8",
   "metadata": {},
   "outputs": [],
   "source": [
    "# Creation des données temporels qui influencent fortement les ventes(agrégation du temps)\n",
    "ventes['Order Month'] = ventes['Order Date'].dt.month\n",
    "ventes['Order Weekday'] = ventes['Order Date'].dt.dayofweek\n",
    "ventes['Is Weekend'] = ventes['Order Weekday'].isin([5, 6]).astype(int)\n",
    "ventes['Leading Days'] = (ventes['Ship Date'] - ventes['Order Date']).dt.days\n"
   ]
  },
  {
   "cell_type": "code",
   "execution_count": 8,
   "id": "28a124e7-d6be-4308-8b3b-ea0ae1208698",
   "metadata": {},
   "outputs": [
    {
     "data": {
      "image/png": "[encoded data removed]",
      "text/plain": [
       "<Figure size 640x480 with 1 Axes>"
      ]
     },
     "metadata": {},
     "output_type": "display_data"
    }
   ],
   "source": [
    "#trier en catégories des rabais\n",
    "sns.histplot(ventes['Discount'], bins=20)\n",
    "plt.title('Distribution de rabais')\n",
    "plt.show()\n"
   ]
  },
  {
   "cell_type": "code",
   "execution_count": 9,
   "id": "a9ecb4f5-2fc7-43d5-91aa-b31079700e2a",
   "metadata": {},
   "outputs": [],
   "source": [
    "# pour que les extremes rabais ne fausser pas le modèle, on va les categorize pour reduire l'impact\n",
    "ventes['Discount Level'] = pd.cut(ventes['Discount'],\n",
    "                              bins=[-0.01, 0.1, 0.3, 0.6, 1.0],\n",
    "                              labels=['Low', 'Medium', 'High', 'Extreme'])\n"
   ]
  },
  {
   "cell_type": "code",
   "execution_count": 10,
   "id": "8e8c96c4-e685-412c-97bf-2c9569384671",
   "metadata": {},
   "outputs": [
    {
     "data": {
      "text/plain": [
       "Text(0.5, 0, 'Discount')"
      ]
     },
     "execution_count": 10,
     "metadata": {},
     "output_type": "execute_result"
    },
    {
     "data": {
      "image/png": "[encoded data removed]",
      "text/plain": [
       "<Figure size 640x480 with 1 Axes>"
      ]
     },
     "metadata": {},
     "output_type": "display_data"
    }
   ],
   "source": [
    "sns.histplot(ventes['Discount'], kde=True)\n",
    "plt.title('Distribution de rabais')\n",
    "plt.xlabel('Discount')"
   ]
  },
  {
   "cell_type": "code",
   "execution_count": 11,
   "id": "f007e3b9-9809-435e-bc35-a675c1915651",
   "metadata": {},
   "outputs": [
    {
     "data": {
      "text/plain": [
       "Text(0.5, 1.0, 'Raw Sales Distribution')"
      ]
     },
     "execution_count": 11,
     "metadata": {},
     "output_type": "execute_result"
    },
    {
     "data": {
      "image/png": "[encoded data removed]",
      "text/plain": [
       "<Figure size 640x480 with 1 Axes>"
      ]
     },
     "metadata": {},
     "output_type": "display_data"
    }
   ],
   "source": [
    "sns.histplot(ventes['Sales'], kde=True)\n",
    "plt.title('Raw Sales Distribution')\n"
   ]
  },
  {
   "cell_type": "code",
   "execution_count": 12,
   "id": "320a1000-c825-4b87-a35b-b210e01f0826",
   "metadata": {},
   "outputs": [
    {
     "data": {
      "image/png": "[encoded data removed]",
      "text/plain": [
       "<Figure size 640x480 with 1 Axes>"
      ]
     },
     "metadata": {},
     "output_type": "display_data"
    }
   ],
   "source": [
    "sns.histplot(ventes['Leading Days'], bins=10)\n",
    "plt.title('Leading time Distribution')\n",
    "plt.show()"
   ]
  },
  {
   "cell_type": "code",
   "execution_count": 13,
   "id": "67c51d62-51ef-44d4-9dd4-e43274139c86",
   "metadata": {},
   "outputs": [],
   "source": [
    "# Normaliser les valeurs de ventes biaisées\n",
    "#Les ventes ont souvent une distribution biaisée vers la droite, en particulier pour les produits de luxe\n",
    "#La solution consiste à appliquer une transformation logarithmique pour normaliser les valeurs pour les modèles de régression.\n",
    "ventes['Log Sales'] = np.log1p(ventes['Sales'])"
   ]
  },
  {
   "cell_type": "markdown",
   "id": "b2f880b0-bdf7-482e-b681-f38fe226a67c",
   "metadata": {},
   "source": [
    "**Model Preparation**"
   ]
  },
  {
   "cell_type": "code",
   "execution_count": 14,
   "id": "5ae916ef-fb09-473a-9817-9b0320c7b75c",
   "metadata": {},
   "outputs": [],
   "source": [
    "from sklearn.model_selection import train_test_split\n",
    "from sklearn.ensemble import GradientBoostingRegressor\n",
    "from sklearn.metrics import mean_absolute_error, r2_score\n",
    "\n",
    "# Feature selection\n",
    "features = ['Quantity', 'Discount', 'Profit', 'Order Month', 'Order Weekday',\n",
    "            'Is Weekend', 'Leading Days']\n",
    "target = ['Log Sales']"
   ]
  },
  {
   "cell_type": "code",
   "execution_count": 15,
   "id": "cbebd0e5-1024-4744-a94d-315f1a27eda6",
   "metadata": {},
   "outputs": [
    {
     "data": {
      "text/html": [
       "<style>#sk-container-id-1 {color: black;background-color: white;}#sk-container-id-1 pre{padding: 0;}#sk-container-id-1 div.sk-toggleable {background-color: white;}#sk-container-id-1 label.sk-toggleable__label {cursor: pointer;display: block;width: 100%;margin-bottom: 0;padding: 0.3em;box-sizing: border-box;text-align: center;}#sk-container-id-1 label.sk-toggleable__label-arrow:before {content: \"▸\";float: left;margin-right: 0.25em;color: #696969;}#sk-container-id-1 label.sk-toggleable__label-arrow:hover:before {color: black;}#sk-container-id-1 div.sk-estimator:hover label.sk-toggleable__label-arrow:before {color: black;}#sk-container-id-1 div.sk-toggleable__content {max-height: 0;max-width: 0;overflow: hidden;text-align: left;background-color: #f0f8ff;}#sk-container-id-1 div.sk-toggleable__content pre {margin: 0.2em;color: black;border-radius: 0.25em;background-color: #f0f8ff;}#sk-container-id-1 input.sk-toggleable__control:checked~div.sk-toggleable__content {max-height: 200px;max-width: 100%;overflow: auto;}#sk-container-id-1 input.sk-toggleable__control:checked~label.sk-toggleable__label-arrow:before {content: \"▾\";}#sk-container-id-1 div.sk-estimator input.sk-toggleable__control:checked~label.sk-toggleable__label {background-color: #d4ebff;}#sk-container-id-1 div.sk-label input.sk-toggleable__control:checked~label.sk-toggleable__label {background-color: #d4ebff;}#sk-container-id-1 input.sk-hidden--visually {border: 0;clip: rect(1px 1px 1px 1px);clip: rect(1px, 1px, 1px, 1px);height: 1px;margin: -1px;overflow: hidden;padding: 0;position: absolute;width: 1px;}#sk-container-id-1 div.sk-estimator {font-family: monospace;background-color: #f0f8ff;border: 1px dotted black;border-radius: 0.25em;box-sizing: border-box;margin-bottom: 0.5em;}#sk-container-id-1 div.sk-estimator:hover {background-color: #d4ebff;}#sk-container-id-1 div.sk-parallel-item::after {content: \"\";width: 100%;border-bottom: 1px solid gray;flex-grow: 1;}#sk-container-id-1 div.sk-label:hover label.sk-toggleable__label {background-color: #d4ebff;}#sk-container-id-1 div.sk-serial::before {content: \"\";position: absolute;border-left: 1px solid gray;box-sizing: border-box;top: 0;bottom: 0;left: 50%;z-index: 0;}#sk-container-id-1 div.sk-serial {display: flex;flex-direction: column;align-items: center;background-color: white;padding-right: 0.2em;padding-left: 0.2em;position: relative;}#sk-container-id-1 div.sk-item {position: relative;z-index: 1;}#sk-container-id-1 div.sk-parallel {display: flex;align-items: stretch;justify-content: center;background-color: white;position: relative;}#sk-container-id-1 div.sk-item::before, #sk-container-id-1 div.sk-parallel-item::before {content: \"\";position: absolute;border-left: 1px solid gray;box-sizing: border-box;top: 0;bottom: 0;left: 50%;z-index: -1;}#sk-container-id-1 div.sk-parallel-item {display: flex;flex-direction: column;z-index: 1;position: relative;background-color: white;}#sk-container-id-1 div.sk-parallel-item:first-child::after {align-self: flex-end;width: 50%;}#sk-container-id-1 div.sk-parallel-item:last-child::after {align-self: flex-start;width: 50%;}#sk-container-id-1 div.sk-parallel-item:only-child::after {width: 0;}#sk-container-id-1 div.sk-dashed-wrapped {border: 1px dashed gray;margin: 0 0.4em 0.5em 0.4em;box-sizing: border-box;padding-bottom: 0.4em;background-color: white;}#sk-container-id-1 div.sk-label label {font-family: monospace;font-weight: bold;display: inline-block;line-height: 1.2em;}#sk-container-id-1 div.sk-label-container {text-align: center;}#sk-container-id-1 div.sk-container {/* jupyter's `normalize.less` sets `[hidden] { display: none; }` but bootstrap.min.css set `[hidden] { display: none !important; }` so we also need the `!important` here to be able to override the default hidden behavior on the sphinx rendered scikit-learn.org. See: https://github.com/scikit-learn/scikit-learn/issues/21755 */display: inline-block !important;position: relative;}#sk-container-id-1 div.sk-text-repr-fallback {display: none;}</style><div id=\"sk-container-id-1\" class=\"sk-top-container\"><div class=\"sk-text-repr-fallback\"><pre>GradientBoostingRegressor(max_depth=5)</pre><b>In a Jupyter environment, please rerun this cell to show the HTML representation or trust the notebook. <br />On GitHub, the HTML representation is unable to render, please try loading this page with nbviewer.org.</b></div><div class=\"sk-container\" hidden><div class=\"sk-item\"><div class=\"sk-estimator sk-toggleable\"><input class=\"sk-toggleable__control sk-hidden--visually\" id=\"sk-estimator-id-1\" type=\"checkbox\" checked><label for=\"sk-estimator-id-1\" class=\"sk-toggleable__label sk-toggleable__label-arrow\">GradientBoostingRegressor</label><div class=\"sk-toggleable__content\"><pre>GradientBoostingRegressor(max_depth=5)</pre></div></div></div></div></div>"
      ],
      "text/plain": [
       "GradientBoostingRegressor(max_depth=5)"
      ]
     },
     "execution_count": 15,
     "metadata": {},
     "output_type": "execute_result"
    }
   ],
   "source": [
    "\n",
    "X = ventes[features]\n",
    "y = ventes[target]\n",
    "\n",
    "# If 'target' is a list or has only one column, flatten it using ravel():\n",
    "y = y.values.ravel()  # Converts (n_samples, 1) to (n_samples,)\n",
    "\n",
    "X_train, X_test, y_train, y_test = train_test_split(X, y, test_size=0.2, random_state=42)\n",
    "\n",
    "model = GradientBoostingRegressor(n_estimators=100, learning_rate=0.1, max_depth=5)\n",
    "model.fit(X_train, y_train)"
   ]
  },
  {
   "cell_type": "code",
   "execution_count": 16,
   "id": "aa5dd34e-e854-4823-929c-6d00ed697e61",
   "metadata": {},
   "outputs": [
    {
     "name": "stdout",
     "output_type": "stream",
     "text": [
      "MAE: 0.4067959446584521\n",
      "R2: 0.8509233101096447\n"
     ]
    },
    {
     "data": {
      "image/png": "[encoded data removed]",
      "text/plain": [
       "<Figure size 640x480 with 1 Axes>"
      ]
     },
     "metadata": {},
     "output_type": "display_data"
    }
   ],
   "source": [
    "# Evaluation du modele\n",
    "y_pred = model.predict(X_test)\n",
    "print(\"MAE:\", mean_absolute_error(y_test, y_pred))\n",
    "print(\"R2:\", r2_score(y_test, y_pred))\n",
    "\n",
    "# Feature Importance\n",
    "importances = model.feature_importances_\n",
    "plt.barh(features, importances)\n",
    "plt.title('Feature Importances')\n",
    "plt.show()"
   ]
  },
  {
   "cell_type": "markdown",
   "id": "e3ce0fda-6243-43e0-ade2-776bf96e33e0",
   "metadata": {},
   "source": [
    "Je prends un example pour vous montre l'ettente de ma modele"
   ]
  },
  {
   "cell_type": "code",
   "execution_count": 17,
   "id": "d17f2325-2791-4f1f-9a1e-b012465a70ef",
   "metadata": {},
   "outputs": [
    {
     "name": "stdout",
     "output_type": "stream",
     "text": [
      "\n",
      "--- Model Yield Example ---\n",
      "Expected sales value for my_order: $817.31\n"
     ]
    }
   ],
   "source": [
    "my_order = pd.DataFrame({\n",
    "    'Quantity': [5],\n",
    "    'Discount': [0.3],\n",
    "    'Profit': [80],\n",
    "    'Order Month': [12],\n",
    "    'Order Weekday': [2],  # Wednesday\n",
    "    'Is Weekend': [0],\n",
    "    'Leading Days': [3]\n",
    "})\n",
    "\n",
    "log_pred = model.predict(my_order)[0]\n",
    "sales_prediction = np.expm1(log_pred)\n",
    "\n",
    "print(\"\\n--- Model Yield Example ---\")\n",
    "print(f\"Expected sales value for my_order: ${sales_prediction:.2f}\")"
   ]
  },
  {
   "cell_type": "markdown",
   "id": "6cab1460-b0ba-4d87-bcc3-f02220b2787c",
   "metadata": {},
   "source": [
    "**Question #2 : Insights et interprétation**"
   ]
  },
  {
   "cell_type": "markdown",
   "id": "fae33c86-cad7-4c09-bdbd-08a397aa302e",
   "metadata": {},
   "source": [
    "pour les parties prenantes, Je les suggere, \n",
    "- 10 à 40 % de rabais, selon le produit et la saison.\n",
    "- Évitez les remises importantes (> 50 %), sauf s'il s'agit de stocks en fin de vie ou de lots.\n",
    "- Utilisez les remises de manière stratégique sur les produits à rotation lente.\n",
    "- Adaptez vos promotions en fonction du type de client."
   ]
  },
  {
   "cell_type": "code",
   "execution_count": 18,
   "id": "451baebb-43cb-4241-9634-cd602244118a",
   "metadata": {},
   "outputs": [
    {
     "data": {
      "text/plain": [
       "Discount\n",
       "0.00    306.250323\n",
       "0.10    613.608513\n",
       "0.15    529.971567\n",
       "0.20    352.245554\n",
       "0.30    448.064640\n",
       "0.32    536.794770\n",
       "0.40    608.192080\n",
       "0.45    498.634000\n",
       "0.50    388.582778\n",
       "0.60     48.150000\n",
       "0.70    163.958800\n",
       "Name: Sales, dtype: float64"
      ]
     },
     "execution_count": 18,
     "metadata": {},
     "output_type": "execute_result"
    }
   ],
   "source": [
    "# Discounts et Sales\n",
    "ventes.groupby('Discount')['Sales'].mean()"
   ]
  },
  {
   "cell_type": "markdown",
   "id": "7f4f262f-09c8-410a-b45d-170f5a4267e6",
   "metadata": {},
   "source": [
    "\n"
   ]
  },
  {
   "cell_type": "code",
   "execution_count": 19,
   "id": "89b49912-f050-41f8-8072-43a09a6eb1a9",
   "metadata": {},
   "outputs": [
    {
     "data": {
      "text/plain": [
       "<Axes: xlabel='Order Month'>"
      ]
     },
     "execution_count": 19,
     "metadata": {},
     "output_type": "execute_result"
    },
    {
     "data": {
      "image/png": "[encoded data removed]",
      "text/plain": [
       "<Figure size 640x480 with 1 Axes>"
      ]
     },
     "metadata": {},
     "output_type": "display_data"
    }
   ],
   "source": [
    "#Saisonnalité\n",
    "ventes.groupby('Order Month')['Sales'].mean().plot(kind='bar')"
   ]
  },
  {
   "cell_type": "code",
   "execution_count": 20,
   "id": "71ebf216-3ae0-44bf-88a0-ac84c3508856",
   "metadata": {},
   "outputs": [
    {
     "data": {
      "text/html": [
       "<div>\n",
       "<style scoped>\n",
       "    .dataframe tbody tr th:only-of-type {\n",
       "        vertical-align: middle;\n",
       "    }\n",
       "\n",
       "    .dataframe tbody tr th {\n",
       "        vertical-align: top;\n",
       "    }\n",
       "\n",
       "    .dataframe thead th {\n",
       "        text-align: right;\n",
       "    }\n",
       "</style>\n",
       "<table border=\"1\" class=\"dataframe\">\n",
       "  <thead>\n",
       "    <tr style=\"text-align: right;\">\n",
       "      <th></th>\n",
       "      <th>Sales</th>\n",
       "      <th>Profit</th>\n",
       "    </tr>\n",
       "    <tr>\n",
       "      <th>Segment</th>\n",
       "      <th></th>\n",
       "      <th></th>\n",
       "    </tr>\n",
       "  </thead>\n",
       "  <tbody>\n",
       "    <tr>\n",
       "      <th>Consumer</th>\n",
       "      <td>351.347091</td>\n",
       "      <td>6.281293</td>\n",
       "    </tr>\n",
       "    <tr>\n",
       "      <th>Corporate</th>\n",
       "      <td>354.519792</td>\n",
       "      <td>11.741201</td>\n",
       "    </tr>\n",
       "    <tr>\n",
       "      <th>Home Office</th>\n",
       "      <td>336.825131</td>\n",
       "      <td>10.705465</td>\n",
       "    </tr>\n",
       "  </tbody>\n",
       "</table>\n",
       "</div>"
      ],
      "text/plain": [
       "                  Sales     Profit\n",
       "Segment                           \n",
       "Consumer     351.347091   6.281293\n",
       "Corporate    354.519792  11.741201\n",
       "Home Office  336.825131  10.705465"
      ]
     },
     "execution_count": 20,
     "metadata": {},
     "output_type": "execute_result"
    }
   ],
   "source": [
    "#Segment\n",
    "ventes.groupby('Segment')[['Sales', 'Profit']].mean()\n"
   ]
  },
  {
   "cell_type": "markdown",
   "id": "68c74b67-7e18-4191-ad53-4120ac710c79",
   "metadata": {},
   "source": [
    "**Question #3 : Solution ML**"
   ]
  },
  {
   "cell_type": "markdown",
   "id": "2c819be4-b306-416e-8e85-77f2ac25e1d6",
   "metadata": {},
   "source": [
    "J'ai suivi le principe que Gradient Boosting capture les interactions complexes entre les variables et je l'ai choisi parceque il a des excellentes performances sur les données de ventes tabulaires.\n",
    "    \n",
    "les avantages:\n",
    "Haute précision,Interprétabilité\n",
    " et Gestion de données mixtes\n",
    "    \n",
    "les inconvénients:\n",
    "Entraînement plus lent sur les grands ensembles de données\n",
    "nécessite une ingénierie des caractéristiques chargé."
   ]
  },
  {
   "cell_type": "markdown",
   "id": "16d56cd4-e6f2-4e6c-9d49-2b9f9f99059b",
   "metadata": {},
   "source": [
    "**Question #4 : Dégradation de la performance**"
   ]
  },
  {
   "cell_type": "markdown",
   "id": "48d24b85-49ba-486a-a947-99b710006e1b",
   "metadata": {},
   "source": [
    "Il y a plusieurs facteurs qui peut implique tout ça comme:\n",
    "Le comportement des clients ou la stratégie du magasin ont changé.\n",
    "La distribution des variables d'entrée a évolué (par exemple, moins de promotions).\n",
    "Nouveaux concurrents, perturbations de la chaîne d'approvisionnement.\n",
    "\n",
    "pour le resoudre:\n",
    "je Surveillearais les indicateurs au fil du temps.\n",
    "et réorganiser le modèle périodiquement."
   ]
  },
  {
   "cell_type": "markdown",
   "id": "9928ba12-aa81-4bc6-b3a5-eca8db0a2afa",
   "metadata": {},
   "source": [
    "**Question #5 : Intégration de l'IA générative**"
   ]
  },
  {
   "cell_type": "markdown",
   "id": "51bc95eb-8b31-4414-ae73-14f6f4f8668b",
   "metadata": {},
   "source": [
    "une combinaison de recherche sémantique et de chatbot pourrait être un outil très pratique qui rapporte les performances des ventes et permet au propriétaire du magasin d'interagir en fonction de ses objectifs et de sa situation.\n",
    "1. La recherche sémantique révèle ce que les clients recherchent réellement, même s'ils ne le trouvent pas.Elle aide les propriétaires à identifier les lacunes dans leur stock ou les tendances qui pourraient leur échapper.\n",
    "\n",
    "2. En analysant les tendances de recherche, les propriétaires peuvent optimiser les descriptions et les étiquettes de produits en fonction du language des clients.Cela améliore la visibilité et la découvrabilité des produits.\n",
    "\n",
    "3. Réduction des taux de rebond\n",
    "Lorsque les clients trouvent ce qu'ils cherchent plus rapidement, ils sont plus susceptibles d'acheter.Cela se traduit par des taux de conversion plus élevés et moins de trafic gaspillé."
   ]
  }
 ],
 "metadata": {
  "kernelspec": {
   "display_name": "Python 3 (ipykernel)",
   "language": "python",
   "name": "python3"
  },
  "language_info": {
   "codemirror_mode": {
    "name": "ipython",
    "version": 3
   },
   "file_extension": ".py",
   "mimetype": "text/x-python",
   "name": "python",
   "nbconvert_exporter": "python",
   "pygments_lexer": "ipython3",
   "version": "3.11.7"
  }
 },
 "nbformat": 4,
 "nbformat_minor": 5
}
